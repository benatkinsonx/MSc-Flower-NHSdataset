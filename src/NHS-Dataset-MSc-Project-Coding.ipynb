{
 "cells": [
  {
   "cell_type": "markdown",
   "id": "fe399fca",
   "metadata": {},
   "source": [
    "# Imports"
   ]
  },
  {
   "cell_type": "code",
   "execution_count": 17,
   "id": "4f4953be",
   "metadata": {},
   "outputs": [],
   "source": [
    "from collections import OrderedDict\n",
    "from typing import List, Tuple\n",
    "\n",
    "import matplotlib.pyplot as plt\n",
    "import numpy as np\n",
    "\n",
    "import flwr\n",
    "from flwr.client import Client, ClientApp, NumPyClient\n",
    "from flwr.common import Metrics, Context\n",
    "from flwr.server import ServerApp, ServerConfig, ServerAppComponents\n",
    "from flwr.server.strategy import FedAvg\n",
    "from flwr.simulation import run_simulation\n",
    "from flwr_datasets import FederatedDataset\n",
    "\n",
    "import pandas as pd\n",
    "\n",
    "import sklearn\n",
    "from sklearn import preprocessing\n",
    "from sklearn.model_selection import train_test_split\n",
    "\n",
    "import kaggle as kg\n",
    "import os"
   ]
  },
  {
   "cell_type": "markdown",
   "id": "46d3621f",
   "metadata": {},
   "source": [
    "# 1) Downloading the Dataset using the Kaggle API"
   ]
  },
  {
   "cell_type": "markdown",
   "id": "ccf33ee7",
   "metadata": {},
   "source": [
    "## 1a) Get the Kaggle API key\n",
    "to get the API key:\n",
    "- go to kaggle website\n",
    "- click on your profile in the top-right of the page\n",
    "- click settings\n",
    "- under the account section scroll down and click on 'create new token'\n",
    "    - this installs a file called kaggle.json\n",
    "- move kaggle.json to \"C:\\Users\\benat\\ .kaggle\""
   ]
  },
  {
   "cell_type": "markdown",
   "id": "bdca6251",
   "metadata": {},
   "source": [
    "## 1b) authenticate Kaggle API key (keeping the username and key private)\n",
    "- create a .env file in the directory containing the username and key in your kaggle.json\n",
    "\n",
    "KAGGLE_USERNAME=username\n",
    "\n",
    "KAGGLE_KEY=key\n",
    "\n",
    "- create a .gitignore and add a line '.env' to ensure the username and key don't get committed to GitHub and become public\n",
    "\n",
    "- use the code below to use the username and key to authenticate the API"
   ]
  },
  {
   "cell_type": "code",
   "execution_count": 18,
   "id": "8b74f6a6",
   "metadata": {},
   "outputs": [],
   "source": [
    "from dotenv import load_dotenv\n",
    "load_dotenv()\n",
    "\n",
    "kg.api.authenticate()"
   ]
  },
  {
   "cell_type": "markdown",
   "id": "5ee2ff5f",
   "metadata": {},
   "source": [
    "## 1c) Download the dataset using the Kaggle API"
   ]
  },
  {
   "cell_type": "code",
   "execution_count": 19,
   "id": "524f29a0",
   "metadata": {},
   "outputs": [
    {
     "name": "stdout",
     "output_type": "stream",
     "text": [
      "Dataset URL: https://www.kaggle.com/datasets/utkarshx27/breast-cancer-dataset-used-royston-and-altman\n"
     ]
    }
   ],
   "source": [
    "kg.api.dataset_download_files(\n",
    "    dataset=\"utkarshx27/breast-cancer-dataset-used-royston-and-altman\", \n",
    "    path='../data', # goes back one folder from src in the filepath hierarchy\n",
    "    unzip=True)"
   ]
  },
  {
   "cell_type": "markdown",
   "id": "9d6791c3",
   "metadata": {},
   "source": [
    "# 2) EDA"
   ]
  },
  {
   "cell_type": "markdown",
   "id": "57266bfd",
   "metadata": {},
   "source": [
    "## 2a) read in the csv"
   ]
  },
  {
   "cell_type": "code",
   "execution_count": 24,
   "id": "c6a75bed",
   "metadata": {},
   "outputs": [
    {
     "data": {
      "text/html": [
       "<div>\n",
       "<style scoped>\n",
       "    .dataframe tbody tr th:only-of-type {\n",
       "        vertical-align: middle;\n",
       "    }\n",
       "\n",
       "    .dataframe tbody tr th {\n",
       "        vertical-align: top;\n",
       "    }\n",
       "\n",
       "    .dataframe thead th {\n",
       "        text-align: right;\n",
       "    }\n",
       "</style>\n",
       "<table border=\"1\" class=\"dataframe\">\n",
       "  <thead>\n",
       "    <tr style=\"text-align: right;\">\n",
       "      <th></th>\n",
       "      <th>pid</th>\n",
       "      <th>age</th>\n",
       "      <th>meno</th>\n",
       "      <th>size</th>\n",
       "      <th>grade</th>\n",
       "      <th>nodes</th>\n",
       "      <th>pgr</th>\n",
       "      <th>er</th>\n",
       "      <th>hormon</th>\n",
       "      <th>rfstime</th>\n",
       "      <th>status</th>\n",
       "    </tr>\n",
       "  </thead>\n",
       "  <tbody>\n",
       "    <tr>\n",
       "      <th>1</th>\n",
       "      <td>132</td>\n",
       "      <td>49</td>\n",
       "      <td>0</td>\n",
       "      <td>18</td>\n",
       "      <td>2</td>\n",
       "      <td>2</td>\n",
       "      <td>0</td>\n",
       "      <td>0</td>\n",
       "      <td>0</td>\n",
       "      <td>1838</td>\n",
       "      <td>0</td>\n",
       "    </tr>\n",
       "    <tr>\n",
       "      <th>2</th>\n",
       "      <td>1575</td>\n",
       "      <td>55</td>\n",
       "      <td>1</td>\n",
       "      <td>20</td>\n",
       "      <td>3</td>\n",
       "      <td>16</td>\n",
       "      <td>0</td>\n",
       "      <td>0</td>\n",
       "      <td>0</td>\n",
       "      <td>403</td>\n",
       "      <td>1</td>\n",
       "    </tr>\n",
       "    <tr>\n",
       "      <th>3</th>\n",
       "      <td>1140</td>\n",
       "      <td>56</td>\n",
       "      <td>1</td>\n",
       "      <td>40</td>\n",
       "      <td>3</td>\n",
       "      <td>3</td>\n",
       "      <td>0</td>\n",
       "      <td>0</td>\n",
       "      <td>0</td>\n",
       "      <td>1603</td>\n",
       "      <td>0</td>\n",
       "    </tr>\n",
       "    <tr>\n",
       "      <th>4</th>\n",
       "      <td>769</td>\n",
       "      <td>45</td>\n",
       "      <td>0</td>\n",
       "      <td>25</td>\n",
       "      <td>3</td>\n",
       "      <td>1</td>\n",
       "      <td>0</td>\n",
       "      <td>4</td>\n",
       "      <td>0</td>\n",
       "      <td>177</td>\n",
       "      <td>0</td>\n",
       "    </tr>\n",
       "    <tr>\n",
       "      <th>5</th>\n",
       "      <td>130</td>\n",
       "      <td>65</td>\n",
       "      <td>1</td>\n",
       "      <td>30</td>\n",
       "      <td>2</td>\n",
       "      <td>5</td>\n",
       "      <td>0</td>\n",
       "      <td>36</td>\n",
       "      <td>1</td>\n",
       "      <td>1855</td>\n",
       "      <td>0</td>\n",
       "    </tr>\n",
       "  </tbody>\n",
       "</table>\n",
       "</div>"
      ],
      "text/plain": [
       "    pid  age  meno  size  grade  nodes  pgr  er  hormon  rfstime  status\n",
       "1   132   49     0    18      2      2    0   0       0     1838       0\n",
       "2  1575   55     1    20      3     16    0   0       0      403       1\n",
       "3  1140   56     1    40      3      3    0   0       0     1603       0\n",
       "4   769   45     0    25      3      1    0   4       0      177       0\n",
       "5   130   65     1    30      2      5    0  36       1     1855       0"
      ]
     },
     "execution_count": 24,
     "metadata": {},
     "output_type": "execute_result"
    }
   ],
   "source": [
    "df = pd.read_csv('../data/gbsg.csv', index_col='Unnamed: 0')\n",
    "df.head()"
   ]
  },
  {
   "cell_type": "code",
   "execution_count": null,
   "id": "5e1e9a50",
   "metadata": {},
   "outputs": [],
   "source": [
    "pd."
   ]
  },
  {
   "cell_type": "code",
   "execution_count": null,
   "id": "b449cf30",
   "metadata": {},
   "outputs": [],
   "source": []
  },
  {
   "cell_type": "code",
   "execution_count": null,
   "id": "d8741aa1",
   "metadata": {},
   "outputs": [],
   "source": []
  },
  {
   "cell_type": "code",
   "execution_count": null,
   "id": "812389f7",
   "metadata": {},
   "outputs": [],
   "source": []
  }
 ],
 "metadata": {
  "kernelspec": {
   "display_name": "msc-project-env",
   "language": "python",
   "name": "python3"
  },
  "language_info": {
   "codemirror_mode": {
    "name": "ipython",
    "version": 3
   },
   "file_extension": ".py",
   "mimetype": "text/x-python",
   "name": "python",
   "nbconvert_exporter": "python",
   "pygments_lexer": "ipython3",
   "version": "3.10.18"
  }
 },
 "nbformat": 4,
 "nbformat_minor": 5
}
